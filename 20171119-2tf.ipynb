{
 "cells": [
  {
   "cell_type": "markdown",
   "metadata": {
    "toc": true
   },
   "source": [
    "<h1>Table of Contents<span class=\"tocSkip\"></span></h1>\n",
    "<div class=\"toc\" style=\"margin-top: 1em;\"><ul class=\"toc-item\"><li><span><a href=\"#导入包\" data-toc-modified-id=\"导入包-1\"><span class=\"toc-item-num\">1&nbsp;&nbsp;</span>导入包</a></span></li><li><span><a href=\"#读取数据\" data-toc-modified-id=\"读取数据-2\"><span class=\"toc-item-num\">2&nbsp;&nbsp;</span>读取数据</a></span></li><li><span><a href=\"#baseline-model\" data-toc-modified-id=\"baseline-model-3\"><span class=\"toc-item-num\">3&nbsp;&nbsp;</span>baseline model</a></span></li><li><span><a href=\"#Transform-the-time-series-into-a-supervised-learning-problem\" data-toc-modified-id=\"Transform-the-time-series-into-a-supervised-learning-problem-4\"><span class=\"toc-item-num\">4&nbsp;&nbsp;</span>Transform the time series into a supervised learning problem</a></span></li><li><span><a href=\"#keras\" data-toc-modified-id=\"keras-5\"><span class=\"toc-item-num\">5&nbsp;&nbsp;</span>keras</a></span></li><li><span><a href=\"#Tensorflow\" data-toc-modified-id=\"Tensorflow-6\"><span class=\"toc-item-num\">6&nbsp;&nbsp;</span>Tensorflow</a></span><ul class=\"toc-item\"><li><span><a href=\"#Making-training-mini-batches\" data-toc-modified-id=\"Making-training-mini-batches-6.1\"><span class=\"toc-item-num\">6.1&nbsp;&nbsp;</span>Making training mini-batches</a></span></li></ul></li></ul></div>"
   ]
  },
  {
   "cell_type": "markdown",
   "metadata": {},
   "source": [
    "# 导入包"
   ]
  },
  {
   "cell_type": "code",
   "execution_count": 1,
   "metadata": {
    "ExecuteTime": {
     "end_time": "2017-11-23T08:23:19.780436Z",
     "start_time": "2017-11-23T08:23:18.169942Z"
    },
    "collapsed": false
   },
   "outputs": [
    {
     "name": "stderr",
     "output_type": "stream",
     "text": [
      "Using TensorFlow backend.\n"
     ]
    }
   ],
   "source": [
    "from pandas import read_csv\n",
    "from pandas import datetime\n",
    "from pandas import Series\n",
    "from pandas import DataFrame\n",
    "from pandas import concat\n",
    "\n",
    "import numpy\n",
    "\n",
    "from matplotlib import pyplot\n",
    "\n",
    "from sklearn.metrics import mean_squared_error\n",
    "from sklearn.preprocessing import MinMaxScaler\n",
    "from math import sqrt\n",
    "\n",
    "from keras.models import Sequential\n",
    "from keras.layers import Dense\n",
    "from keras.layers import LSTM"
   ]
  },
  {
   "cell_type": "code",
   "execution_count": 2,
   "metadata": {
    "ExecuteTime": {
     "end_time": "2017-11-23T08:23:19.808218Z",
     "start_time": "2017-11-23T08:23:19.797844Z"
    },
    "collapsed": true
   },
   "outputs": [],
   "source": [
    "import os\n",
    "import sklearn\n",
    "from sklearn import preprocessing\n",
    "\n",
    "import numpy as np\n",
    "import matplotlib.pyplot as plt \n",
    "import matplotlib as mpl\n",
    "import pandas as pd\n",
    "import time\n",
    "from datetime import datetime, timedelta\n",
    "from tzlocal import get_localzone # $ pip install tzlocal\n",
    "import math\n",
    "%matplotlib inline"
   ]
  },
  {
   "cell_type": "code",
   "execution_count": 3,
   "metadata": {
    "ExecuteTime": {
     "end_time": "2017-11-23T08:23:19.838096Z",
     "start_time": "2017-11-23T08:23:19.828030Z"
    },
    "collapsed": false
   },
   "outputs": [
    {
     "name": "stdout",
     "output_type": "stream",
     "text": [
      "TensorFlow Version: 1.2.1\n",
      "Default GPU Device: /gpu:0\n"
     ]
    }
   ],
   "source": [
    "from distutils.version import LooseVersion\n",
    "import warnings\n",
    "import tensorflow as tf\n",
    "\n",
    "# Check TensorFlow Version\n",
    "assert LooseVersion(tf.__version__) >= LooseVersion('1.0'), 'Please use TensorFlow version 1.0 or newer'\n",
    "print('TensorFlow Version: {}'.format(tf.__version__))\n",
    "\n",
    "# Check for a GPU\n",
    "if not tf.test.gpu_device_name():\n",
    "    warnings.warn('No GPU found. Please use a GPU to train your neural network.')\n",
    "else:\n",
    "    print('Default GPU Device: {}'.format(tf.test.gpu_device_name()))"
   ]
  },
  {
   "cell_type": "markdown",
   "metadata": {},
   "source": [
    "# 读取数据"
   ]
  },
  {
   "cell_type": "code",
   "execution_count": 4,
   "metadata": {
    "ExecuteTime": {
     "end_time": "2017-11-23T08:23:22.597694Z",
     "start_time": "2017-11-23T08:23:21.950198Z"
    },
    "collapsed": true
   },
   "outputs": [],
   "source": [
    "server_ip = '111.170.234.221'\n",
    "dir_path = \"data/\" + server_ip + \"/\"\n",
    "files = os.listdir(dir_path)\n",
    "df_arr = []\n",
    "for f in files:\n",
    "    if(f.find(\".csv\") != -1):\n",
    "        day_df = pd.read_csv(dir_path + f )\n",
    "        df_arr.append(day_df)\n",
    "df = pd.concat(df_arr)"
   ]
  },
  {
   "cell_type": "code",
   "execution_count": 5,
   "metadata": {
    "ExecuteTime": {
     "end_time": "2017-11-23T08:23:24.841169Z",
     "start_time": "2017-11-23T08:23:24.831035Z"
    },
    "collapsed": true
   },
   "outputs": [],
   "source": [
    "df['time'] = pd.to_datetime(df['time'],unit='s')\n",
    "#timezone\n",
    "df['time']=df['time']+timedelta(hours=8)"
   ]
  },
  {
   "cell_type": "code",
   "execution_count": 6,
   "metadata": {
    "ExecuteTime": {
     "end_time": "2017-11-23T08:23:27.046730Z",
     "start_time": "2017-11-23T08:23:26.991742Z"
    },
    "collapsed": true
   },
   "outputs": [],
   "source": [
    "output_cols = ['value_a_count','value_b_count','value_c_count','all_count','reach_rate_a','reach_rate_b','reach_rate_c']\n",
    "other_cols = ['time','day','server_ip']\n",
    "\n",
    "df = df.sort_values('time')\n",
    "df = df.drop(\"reach_rate\")\n",
    "df['reach_rate_a'] = df['value_a_count']/ df['all_count']\n",
    "df['reach_rate_b'] = df['value_b_count']/ df['all_count']\n",
    "df['reach_rate_c'] = df['value_c_count']/ df['all_count']  "
   ]
  },
  {
   "cell_type": "code",
   "execution_count": 7,
   "metadata": {
    "ExecuteTime": {
     "end_time": "2017-11-23T08:23:29.189384Z",
     "start_time": "2017-11-23T08:23:29.186787Z"
    },
    "collapsed": true
   },
   "outputs": [],
   "source": [
    "data=np.array(df['reach_rate_c'])"
   ]
  },
  {
   "cell_type": "code",
   "execution_count": 8,
   "metadata": {
    "ExecuteTime": {
     "end_time": "2017-11-23T08:23:31.324444Z",
     "start_time": "2017-11-23T08:23:31.318795Z"
    },
    "collapsed": false
   },
   "outputs": [
    {
     "data": {
      "text/plain": [
       "array([ 0.89263421,  0.87795766,  0.87534626, ...,  0.77621692,\n",
       "        0.78531599,  0.78719397])"
      ]
     },
     "execution_count": 8,
     "metadata": {},
     "output_type": "execute_result"
    }
   ],
   "source": [
    "data"
   ]
  },
  {
   "cell_type": "code",
   "execution_count": 9,
   "metadata": {
    "ExecuteTime": {
     "end_time": "2017-11-23T08:23:33.623692Z",
     "start_time": "2017-11-23T08:23:33.453788Z"
    },
    "collapsed": false
   },
   "outputs": [
    {
     "data": {
      "text/plain": [
       "[<matplotlib.lines.Line2D at 0x7efc457f5cc0>]"
      ]
     },
     "execution_count": 9,
     "metadata": {},
     "output_type": "execute_result"
    },
    {
     "data": {
      "image/png": "[encoded data removed]",
      "text/plain": [
       "<matplotlib.figure.Figure at 0x7efc45765ba8>"
      ]
     },
     "metadata": {},
     "output_type": "display_data"
    }
   ],
   "source": [
    "plt.figure()\n",
    "plt.plot(data)"
   ]
  },
  {
   "cell_type": "markdown",
   "metadata": {},
   "source": [
    "# baseline model "
   ]
  },
  {
   "cell_type": "markdown",
   "metadata": {},
   "source": [
    "预测用现实的时间点的前一个\n",
    ",即p(t)=data(t-1)"
   ]
  },
  {
   "cell_type": "code",
   "execution_count": null,
   "metadata": {
    "collapsed": true
   },
   "outputs": [],
   "source": [
    "X = data\n",
    "len_train=int(len(data)*2/3)\n",
    "len_test=len(data)-len_train\n",
    "train, test = X[0:-len_test], X[-len_test:]\n",
    "# walk-forward validation\n",
    "history = [x for x in train]\n",
    "predictions = list()\n",
    "for i in range(len(test)):\n",
    "\t# make prediction\n",
    "\tpredictions.append(history[-1])\n",
    "\t# observation\n",
    "\thistory.append(test[i])\n",
    "# report performance\n",
    "rmse = sqrt(mean_squared_error(test, predictions))\n",
    "print('RMSE: %.3f' % rmse)\n",
    "# line plot of observed vs predicted\n",
    "pyplot.plot(test)\n",
    "pyplot.plot(predictions)\n",
    "pyplot.show()"
   ]
  },
  {
   "cell_type": "markdown",
   "metadata": {},
   "source": [
    "# Transform the time series into a supervised learning problem"
   ]
  },
  {
   "cell_type": "code",
   "execution_count": null,
   "metadata": {
    "collapsed": true
   },
   "outputs": [],
   "source": [
    "def scale(train, test):\n",
    "\t# fit scaler\n",
    "\tscaler = MinMaxScaler(feature_range=(-1, 1))\n",
    "\tscaler = scaler.fit(train)\n",
    "\t# transform train\n",
    "\ttrain = train.reshape(train.shape[0], train.shape[1])\n",
    "\ttrain_scaled = scaler.transform(train)\n",
    "\t# transform test\n",
    "\ttest = test.reshape(test.shape[0], test.shape[1])\n",
    "\ttest_scaled = scaler.transform(test)\n",
    "\treturn scaler, train_scaled, test_scaled"
   ]
  },
  {
   "cell_type": "code",
   "execution_count": null,
   "metadata": {
    "collapsed": true
   },
   "outputs": [],
   "source": [
    "# inverse scaling for a forecasted value\n",
    "def invert_scale(scaler, X, value):\n",
    "\tnew_row = [x for x in X] + [value]\n",
    "\tarray = numpy.array(new_row)\n",
    "\tarray = array.reshape(1, len(array))\n",
    "\tinverted = scaler.inverse_transform(array)\n",
    "\treturn inverted[0, -1]"
   ]
  },
  {
   "cell_type": "code",
   "execution_count": null,
   "metadata": {
    "collapsed": true
   },
   "outputs": [],
   "source": [
    " # frame a sequence as a supervised learning problem\n",
    "def timeseries_to_supervised(data, lag=1):\n",
    "    df = DataFrame(data)\n",
    "    columns = [df.shift(i) for i in range(1, lag+1)]\n",
    "    columns.append(df)\n",
    "    df = concat(columns, axis=1)\n",
    "    # 把第一行去掉\n",
    "    df=df.drop([0])\n",
    "    #print(df)\n",
    "    #df.fillna(0.89263421, inplace=True)\n",
    "    return df"
   ]
  },
  {
   "cell_type": "code",
   "execution_count": null,
   "metadata": {
    "collapsed": true
   },
   "outputs": [],
   "source": [
    "supervised = timeseries_to_supervised(X, 1)\n",
    "supervised_values = supervised.values\n",
    "print(\"supervised_values shape: {}\".format(supervised_values.shape))\n",
    "# split data into train and test-sets\n",
    "train, test = supervised_values[0:-len_test], supervised_values[-len_test:]\n",
    "print(\"train shape: {}\".format(train.shape))\n",
    "print(\"test shape: {}\".format(test.shape)) \n",
    "# transform the scale of the data\n",
    "scaler, train_scaled, test_scaled = scale(train, test)\n",
    "print(scaler)"
   ]
  },
  {
   "cell_type": "code",
   "execution_count": null,
   "metadata": {
    "collapsed": true
   },
   "outputs": [],
   "source": [
    "plt.figure()\n",
    "#plt.plot(train_scaled)\n",
    "#plt.plot(test_scaled)\n",
    "#第0个点被去除\n",
    "plt.plot(list(range(1,len(train_scaled)+1)), train_scaled, color='b')\n",
    "plt.plot(list(range(len(train_scaled)+1, len(train_scaled) + len(test_scaled)+1)), test_scaled, color='r')\n",
    "plt.show()"
   ]
  },
  {
   "cell_type": "markdown",
   "metadata": {},
   "source": [
    "# keras"
   ]
  },
  {
   "cell_type": "code",
   "execution_count": null,
   "metadata": {
    "collapsed": true
   },
   "outputs": [],
   "source": [
    "def fit_lstm(train, batch_size, nb_epoch, neurons):\n",
    "    X, y = train[:, 0:-1], train[:, -1]\n",
    "    X = X.reshape(X.shape[0], 1, X.shape[1])\n",
    "    print(\"number of samples:{}\".format(X.shape[0]))\n",
    "    print(\"number of time steps:{}\".format(X.shape[1]))\n",
    "    print(\"number of features:{}\".format(X.shape[2]))\n",
    "    model = Sequential()\n",
    "    model.add(LSTM(neurons, batch_input_shape=(batch_size, X.shape[1], X.shape[2]), stateful=True))\n",
    "    model.add(Dense(1))\n",
    "    model.compile(loss='mean_squared_error', optimizer='adam')\n",
    "    for i in range(nb_epoch):\n",
    "        model.fit(X, y, epochs=1, batch_size=batch_size, verbose=2, shuffle=False)\n",
    "        model.reset_states()\n",
    "    return model"
   ]
  },
  {
   "cell_type": "code",
   "execution_count": null,
   "metadata": {
    "collapsed": true
   },
   "outputs": [],
   "source": [
    "lstm_model = fit_lstm(train_scaled, batch_size=1, nb_epoch=2, neurons=10)"
   ]
  },
  {
   "cell_type": "code",
   "execution_count": null,
   "metadata": {
    "collapsed": true
   },
   "outputs": [],
   "source": [
    "# make a one-step forecast\n",
    "def forecast_lstm(model, batch_size, X):\n",
    "\tX = X.reshape(1, 1, len(X))\n",
    "\tyhat = model.predict(X, batch_size=batch_size)\n",
    "\treturn yhat[0,0]"
   ]
  },
  {
   "cell_type": "code",
   "execution_count": null,
   "metadata": {
    "collapsed": true
   },
   "outputs": [],
   "source": [
    "# walk-forward validation on the test data\n",
    "predictions = list()\n",
    "for i in range(len(test_scaled)):\n",
    "    # make one-step forecast\n",
    "    X, y = test_scaled[i, 0:-1], test_scaled[i, -1]\n",
    "    #lstm_model.reset_states()\n",
    "    yhat = forecast_lstm(lstm_model, 1, X)\n",
    "    # This should produce a model with perfect skill\n",
    "    # yhat = y\n",
    "    \n",
    "    # invert scaling\n",
    "    yhat = invert_scale(scaler, X, yhat)\n",
    "    # invert differencing\n",
    "    #yhat = inverse_difference(raw_values, yhat, len(test_scaled)+1-i)\n",
    "    # store forecast\n",
    "    predictions.append(yhat)\n",
    "    expected = data[len(train) + i + 1]\n",
    "    print('Month=%d, Predicted=%f, Expected=%f' % (i+1, yhat, expected))\n",
    " \n",
    "# report performance\n",
    "rmse = sqrt(mean_squared_error(data[-len_test:], predictions))\n",
    "print('Test RMSE: %.3f' % rmse)\n",
    "# line plot of observed vs predicted\n",
    "pyplot.plot(data[-len_test:])\n",
    "pyplot.plot(predictions)\n",
    "pyplot.show()"
   ]
  },
  {
   "cell_type": "markdown",
   "metadata": {},
   "source": [
    "# Tensorflow"
   ]
  },
  {
   "cell_type": "markdown",
   "metadata": {
    "collapsed": true
   },
   "source": [
    "## Making training mini-batches"
   ]
  },
  {
   "cell_type": "code",
   "execution_count": null,
   "metadata": {
    "collapsed": true
   },
   "outputs": [],
   "source": [
    "# 压缩为 1到-1"
   ]
  },
  {
   "cell_type": "code",
   "execution_count": 44,
   "metadata": {
    "ExecuteTime": {
     "end_time": "2017-11-23T08:37:20.522657Z",
     "start_time": "2017-11-23T08:37:20.517599Z"
    },
    "collapsed": true
   },
   "outputs": [],
   "source": [
    "data_size=data.shape[0]\n",
    "train_size=int(data_size/3*2)\n",
    "test_size=data_size-train_size"
   ]
  },
  {
   "cell_type": "code",
   "execution_count": 45,
   "metadata": {
    "ExecuteTime": {
     "end_time": "2017-11-23T08:37:26.178842Z",
     "start_time": "2017-11-23T08:37:26.173878Z"
    },
    "collapsed": true
   },
   "outputs": [],
   "source": [
    "normalize_data = (data - np.mean(data)) / np.std(data)\n",
    "normalize_data = normalize_data[:, np.newaxis]"
   ]
  },
  {
   "cell_type": "code",
   "execution_count": 46,
   "metadata": {
    "ExecuteTime": {
     "end_time": "2017-11-23T08:37:31.734909Z",
     "start_time": "2017-11-23T08:37:31.732213Z"
    },
    "collapsed": true
   },
   "outputs": [],
   "source": [
    "train_data=normalize_data[0:train_size]\n",
    "test_data=normalize_data[-test_size:]"
   ]
  },
  {
   "cell_type": "code",
   "execution_count": 47,
   "metadata": {
    "ExecuteTime": {
     "end_time": "2017-11-23T08:37:37.284305Z",
     "start_time": "2017-11-23T08:37:37.280186Z"
    },
    "collapsed": true
   },
   "outputs": [],
   "source": [
    "time_step = 1\n",
    "rnn_unit = 10\n",
    "batch_size = 60\n",
    "input_size = 1\n",
    "output_size = 1\n",
    "lr = 0.0006"
   ]
  },
  {
   "cell_type": "code",
   "execution_count": 48,
   "metadata": {
    "ExecuteTime": {
     "end_time": "2017-11-23T08:37:47.581811Z",
     "start_time": "2017-11-23T08:37:47.459073Z"
    },
    "collapsed": true
   },
   "outputs": [],
   "source": [
    "train_x, train_y = [], []\n",
    "for i in range(train_size - time_step - 1):\n",
    "    x = train_data[i:i + time_step]\n",
    "    y = train_data[i + 1:i + time_step + 1]\n",
    "    train_x.append(x.tolist())\n",
    "    train_y.append(y.tolist())"
   ]
  },
  {
   "cell_type": "code",
   "execution_count": 49,
   "metadata": {
    "ExecuteTime": {
     "end_time": "2017-11-23T08:37:53.229054Z",
     "start_time": "2017-11-23T08:37:53.199520Z"
    },
    "collapsed": true
   },
   "outputs": [],
   "source": [
    "test_x, test_y = [], []\n",
    "for i in range(test_size-1):\n",
    "    x = test_data[i]\n",
    "    y = test_data[i+1]\n",
    "    test_x.append(x.tolist())\n",
    "    test_y.append(y.tolist())"
   ]
  },
  {
   "cell_type": "code",
   "execution_count": 16,
   "metadata": {
    "ExecuteTime": {
     "end_time": "2017-11-23T08:23:54.728020Z",
     "start_time": "2017-11-23T08:23:54.702062Z"
    },
    "collapsed": true
   },
   "outputs": [],
   "source": [
    "weights={\n",
    "         'in':tf.Variable(tf.random_normal([input_size,rnn_unit])),\n",
    "         'out':tf.Variable(tf.random_normal([rnn_unit,1]))\n",
    "         }\n",
    "biases={\n",
    "        'in':tf.Variable(tf.constant(0.1,shape=[rnn_unit,])),\n",
    "        'out':tf.Variable(tf.constant(0.1,shape=[1,]))\n",
    "        }"
   ]
  },
  {
   "cell_type": "code",
   "execution_count": 17,
   "metadata": {
    "ExecuteTime": {
     "end_time": "2017-11-23T08:23:57.030847Z",
     "start_time": "2017-11-23T08:23:57.025506Z"
    },
    "code_folding": [],
    "collapsed": true
   },
   "outputs": [],
   "source": [
    "def build_inputs():\n",
    "    ''' Define placeholders for inputs, targets, and dropout \n",
    "    \n",
    "        Arguments\n",
    "        ---------\n",
    "        batch_size: Batch size, number of sequences per batch\n",
    "        num_steps: Number of sequence steps in a batch\n",
    "        \n",
    "    '''\n",
    "    # Declare placeholders we'll feed into the graph\n",
    "    X = tf.placeholder(tf.float32, [None, time_step, input_size])\n",
    "    Y = tf.placeholder(tf.float32, [None, time_step, output_size])\n",
    "\n",
    "    return X, Y"
   ]
  },
  {
   "cell_type": "code",
   "execution_count": 18,
   "metadata": {
    "ExecuteTime": {
     "end_time": "2017-11-23T08:23:59.359766Z",
     "start_time": "2017-11-23T08:23:59.342204Z"
    },
    "code_folding": [],
    "collapsed": true
   },
   "outputs": [],
   "source": [
    "def build_lstm(batch_size):\n",
    "    w_in=weights['in']\n",
    "    b_in=biases['in']\n",
    "    input=tf.reshape(X,[-1,input_size])  \n",
    "    input_rnn=tf.matmul(input,w_in)+b_in\n",
    "    input_rnn=tf.reshape(input_rnn,[-1,time_step,rnn_unit])   \n",
    "    cell=tf.nn.rnn_cell.BasicLSTMCell(rnn_unit)\n",
    "    init_state=cell.zero_state(batch_size,dtype=tf.float32)\n",
    "    output_rnn,final_states=tf.nn.dynamic_rnn(cell, input_rnn,initial_state=init_state, dtype=tf.float32)\n",
    "    output=tf.reshape(output_rnn,[-1,rnn_unit]) \n",
    "    w_out=weights['out']\n",
    "    b_out=biases['out']\n",
    "    pred=tf.matmul(output,w_out)+b_out\n",
    "    \n",
    "    return pred,final_states"
   ]
  },
  {
   "cell_type": "code",
   "execution_count": 19,
   "metadata": {
    "ExecuteTime": {
     "end_time": "2017-11-23T08:24:01.777825Z",
     "start_time": "2017-11-23T08:24:01.774275Z"
    },
    "collapsed": true
   },
   "outputs": [],
   "source": [
    "X,Y=build_inputs()"
   ]
  },
  {
   "cell_type": "code",
   "execution_count": 20,
   "metadata": {
    "ExecuteTime": {
     "end_time": "2017-11-23T08:24:06.594251Z",
     "start_time": "2017-11-23T08:24:04.046227Z"
    },
    "collapsed": false
   },
   "outputs": [
    {
     "name": "stdout",
     "output_type": "stream",
     "text": [
      "Number of iterations: 0  loss: 0.500361\n",
      "model_save model_save1/modle.ckpt\n",
      "Number of iterations: 0  loss: 0.112126\n",
      "model_save model_save1/modle.ckpt\n",
      "Number of iterations: 0  loss: 0.0636153\n",
      "model_save model_save1/modle.ckpt\n",
      "Number of iterations: 0  loss: 0.35646\n",
      "model_save model_save1/modle.ckpt\n",
      "Number of iterations: 0  loss: 0.176088\n",
      "model_save model_save1/modle.ckpt\n",
      "Number of iterations: 0  loss: 0.544564\n",
      "model_save model_save1/modle.ckpt\n",
      "Number of iterations: 0  loss: 0.196761\n",
      "model_save model_save1/modle.ckpt\n",
      "Number of iterations: 0  loss: 0.686675\n",
      "model_save model_save1/modle.ckpt\n",
      "Number of iterations: 0  loss: 0.170086\n",
      "model_save model_save1/modle.ckpt\n",
      "Number of iterations: 0  loss: 0.105673\n",
      "model_save model_save1/modle.ckpt\n",
      "Number of iterations: 0  loss: 0.420791\n",
      "model_save model_save1/modle.ckpt\n",
      "Number of iterations: 0  loss: 0.0906182\n",
      "model_save model_save1/modle.ckpt\n",
      "Number of iterations: 0  loss: 0.185125\n",
      "model_save model_save1/modle.ckpt\n",
      "Number of iterations: 0  loss: 0.129473\n",
      "model_save model_save1/modle.ckpt\n",
      "Number of iterations: 0  loss: 0.0782122\n",
      "model_save model_save1/modle.ckpt\n",
      "Number of iterations: 0  loss: 0.181252\n",
      "model_save model_save1/modle.ckpt\n",
      "Number of iterations: 0  loss: 0.0900146\n",
      "model_save model_save1/modle.ckpt\n",
      "Number of iterations: 0  loss: 0.470656\n",
      "model_save model_save1/modle.ckpt\n",
      "Number of iterations: 0  loss: 0.163879\n",
      "model_save model_save1/modle.ckpt\n",
      "Number of iterations: 0  loss: 0.0764429\n",
      "model_save model_save1/modle.ckpt\n",
      "Number of iterations: 0  loss: 0.283585\n",
      "model_save model_save1/modle.ckpt\n",
      "Number of iterations: 0  loss: 0.139645\n",
      "model_save model_save1/modle.ckpt\n",
      "Number of iterations: 0  loss: 0.840429\n",
      "model_save model_save1/modle.ckpt\n",
      "Number of iterations: 0  loss: 0.166812\n",
      "model_save model_save1/modle.ckpt\n",
      "Number of iterations: 0  loss: 0.189998\n",
      "model_save model_save1/modle.ckpt\n",
      "Number of iterations: 0  loss: 0.150098\n",
      "model_save model_save1/modle.ckpt\n",
      "Number of iterations: 0  loss: 0.0957785\n",
      "model_save model_save1/modle.ckpt\n",
      "Number of iterations: 0  loss: 0.263524\n",
      "model_save model_save1/modle.ckpt\n",
      "Number of iterations: 0  loss: 0.0897679\n",
      "model_save model_save1/modle.ckpt\n",
      "Number of iterations: 0  loss: 0.568677\n",
      "model_save model_save1/modle.ckpt\n",
      "Number of iterations: 0  loss: 0.13209\n",
      "model_save model_save1/modle.ckpt\n",
      "The train has finished\n"
     ]
    }
   ],
   "source": [
    "with tf.variable_scope(\"sec_lstm\"):\n",
    "    pred,_=build_lstm(batch_size)\n",
    "loss=tf.reduce_mean(tf.square(tf.reshape(pred,[-1])-tf.reshape(Y, [-1])))\n",
    "train_op=tf.train.AdamOptimizer(lr).minimize(loss)\n",
    "saver=tf.train.Saver(tf.global_variables())\n",
    "with tf.Session() as sess:\n",
    "    sess.run(tf.global_variables_initializer())\n",
    "    for i in range(1): #We can increase the number of iterations to gain better result.\n",
    "        step=0\n",
    "        start=0\n",
    "        end=start+batch_size\n",
    "        while(end<len(train_x)):\n",
    "            _,loss_=sess.run([train_op,loss],feed_dict={X:train_x[start:end],Y:train_y[start:end]})\n",
    "            start+=batch_size\n",
    "            end=start+batch_size\n",
    "\n",
    "            if step%10==0:\n",
    "                print(\"Number of iterations:\",i,\" loss:\",loss_)\n",
    "                print(\"model_save\",saver.save(sess,'model_save1/modle.ckpt'))\n",
    "                #I run the code in windows 10,so use  'model_save1\\\\modle.ckpt'\n",
    "                #if you run it in Linux,please use  'model_save1/modle.ckpt'\n",
    "            step+=1\n",
    "    print(\"The train has finished\")"
   ]
  },
  {
   "cell_type": "code",
   "execution_count": 53,
   "metadata": {
    "ExecuteTime": {
     "end_time": "2017-11-23T08:40:08.917133Z",
     "start_time": "2017-11-23T08:40:03.298321Z"
    },
    "collapsed": false
   },
   "outputs": [
    {
     "name": "stdout",
     "output_type": "stream",
     "text": [
      "INFO:tensorflow:Restoring parameters from model_save1/modle.ckpt\n"
     ]
    },
    {
     "data": {
      "image/png": "[encoded data removed]",
      "text/plain": [
       "<matplotlib.figure.Figure at 0x7efc45749cf8>"
      ]
     },
     "metadata": {},
     "output_type": "display_data"
    }
   ],
   "source": [
    "with tf.variable_scope(\"sec_lstm\",reuse=True):\n",
    "    pred,_=build_lstm(1)    \n",
    "saver=tf.train.Saver(tf.global_variables())\n",
    "with tf.Session() as sess:\n",
    "    saver.restore(sess, 'model_save1/modle.ckpt')\n",
    "    #I run the code in windows 10,so use  'model_save1\\\\modle.ckpt'\n",
    "    #if you run it in Linux,please use  'model_save1/modle.ckpt'\n",
    "    predict=[]\n",
    "    for i in range(len(test_x)):\n",
    "        next_seq=sess.run(pred,feed_dict={X:[[test_x[i]]]})\n",
    "        predict.append(next_seq[-1])"
   ]
  },
  {
   "cell_type": "code",
   "execution_count": 54,
   "metadata": {
    "ExecuteTime": {
     "end_time": "2017-11-23T08:40:38.418507Z",
     "start_time": "2017-11-23T08:40:38.178525Z"
    },
    "collapsed": false
   },
   "outputs": [
    {
     "data": {
      "image/png": "[encoded data removed]",
      "text/plain": [
       "<matplotlib.figure.Figure at 0x7efc1001f160>"
      ]
     },
     "metadata": {},
     "output_type": "display_data"
    }
   ],
   "source": [
    "plt.figure()\n",
    "plt.plot(list(range(len(train_data))),train_data, color='b')\n",
    "plt.plot(list(range(len(train_data), len(train_data) + len(test_data))), test_data, color='y')\n",
    "plt.plot(list(range(len(train_data)+1, len(train_data) + len(test_data))), predict, color='r')\n",
    "plt.show()"
   ]
  },
  {
   "cell_type": "code",
   "execution_count": 35,
   "metadata": {
    "ExecuteTime": {
     "end_time": "2017-11-23T08:34:33.721184Z",
     "start_time": "2017-11-23T08:34:33.710728Z"
    },
    "collapsed": false
   },
   "outputs": [
    {
     "data": {
      "text/plain": [
       "18238"
      ]
     },
     "execution_count": 35,
     "metadata": {},
     "output_type": "execute_result"
    }
   ],
   "source": [
    "2*len(predict)"
   ]
  },
  {
   "cell_type": "code",
   "execution_count": 33,
   "metadata": {
    "ExecuteTime": {
     "end_time": "2017-11-23T08:33:51.839473Z",
     "start_time": "2017-11-23T08:33:51.829579Z"
    },
    "collapsed": false
   },
   "outputs": [
    {
     "data": {
      "text/plain": [
       "18240"
      ]
     },
     "execution_count": 33,
     "metadata": {},
     "output_type": "execute_result"
    }
   ],
   "source": [
    "len(train_data)"
   ]
  },
  {
   "cell_type": "code",
   "execution_count": 36,
   "metadata": {
    "ExecuteTime": {
     "end_time": "2017-11-23T08:34:58.998679Z",
     "start_time": "2017-11-23T08:34:58.994615Z"
    },
    "collapsed": false
   },
   "outputs": [
    {
     "data": {
      "text/plain": [
       "9119"
      ]
     },
     "execution_count": 36,
     "metadata": {},
     "output_type": "execute_result"
    }
   ],
   "source": [
    "len(test_x)"
   ]
  },
  {
   "cell_type": "code",
   "execution_count": 34,
   "metadata": {
    "ExecuteTime": {
     "end_time": "2017-11-23T08:34:11.501266Z",
     "start_time": "2017-11-23T08:34:11.491815Z"
    },
    "collapsed": false
   },
   "outputs": [
    {
     "data": {
      "text/plain": [
       "18240"
      ]
     },
     "execution_count": 34,
     "metadata": {},
     "output_type": "execute_result"
    }
   ],
   "source": [
    "train_size"
   ]
  },
  {
   "cell_type": "code",
   "execution_count": 40,
   "metadata": {
    "ExecuteTime": {
     "end_time": "2017-11-23T08:36:22.677577Z",
     "start_time": "2017-11-23T08:36:22.670797Z"
    },
    "collapsed": false
   },
   "outputs": [
    {
     "data": {
      "text/plain": [
       "9119"
      ]
     },
     "execution_count": 40,
     "metadata": {},
     "output_type": "execute_result"
    }
   ],
   "source": [
    "len(test_x)"
   ]
  },
  {
   "cell_type": "code",
   "execution_count": 42,
   "metadata": {
    "ExecuteTime": {
     "end_time": "2017-11-23T08:36:35.994471Z",
     "start_time": "2017-11-23T08:36:35.990978Z"
    },
    "collapsed": false
   },
   "outputs": [
    {
     "data": {
      "text/plain": [
       "18240"
      ]
     },
     "execution_count": 42,
     "metadata": {},
     "output_type": "execute_result"
    }
   ],
   "source": [
    "len(test_data)"
   ]
  },
  {
   "cell_type": "code",
   "execution_count": 43,
   "metadata": {
    "ExecuteTime": {
     "end_time": "2017-11-23T08:36:56.728684Z",
     "start_time": "2017-11-23T08:36:56.724905Z"
    },
    "collapsed": false
   },
   "outputs": [
    {
     "data": {
      "text/plain": [
       "9120"
      ]
     },
     "execution_count": 43,
     "metadata": {},
     "output_type": "execute_result"
    }
   ],
   "source": [
    "test_size"
   ]
  },
  {
   "cell_type": "code",
   "execution_count": null,
   "metadata": {
    "collapsed": true
   },
   "outputs": [],
   "source": []
  }
 ],
 "metadata": {
  "anaconda-cloud": {},
  "kernelspec": {
   "display_name": "Python [conda root]",
   "language": "python",
   "name": "conda-root-py"
  },
  "language_info": {
   "codemirror_mode": {
    "name": "ipython",
    "version": 3
   },
   "file_extension": ".py",
   "mimetype": "text/x-python",
   "name": "python",
   "nbconvert_exporter": "python",
   "pygments_lexer": "ipython3",
   "version": "3.5.2"
  },
  "toc": {
   "nav_menu": {},
   "number_sections": true,
   "sideBar": true,
   "skip_h1_title": false,
   "toc_cell": true,
   "toc_position": {
    "height": "876px",
    "left": "0px",
    "right": "1643px",
    "top": "107px",
    "width": "212px"
   },
   "toc_section_display": "block",
   "toc_window_display": true
  },
  "varInspector": {
   "cols": {
    "lenName": 16,
    "lenType": 16,
    "lenVar": 40
   },
   "kernels_config": {
    "python": {
     "delete_cmd_postfix": "",
     "delete_cmd_prefix": "del ",
     "library": "var_list.py",
     "varRefreshCmd": "print(var_dic_list())"
    },
    "r": {
     "delete_cmd_postfix": ") ",
     "delete_cmd_prefix": "rm(",
     "library": "var_list.r",
     "varRefreshCmd": "cat(var_dic_list()) "
    }
   },
   "position": {
    "height": "363px",
    "left": "1525.75px",
    "right": "5.25px",
    "top": "128px",
    "width": "324px"
   },
   "types_to_exclude": [
    "module",
    "function",
    "builtin_function_or_method",
    "instance",
    "_Feature"
   ],
   "window_display": false
  }
 },
 "nbformat": 4,
 "nbformat_minor": 2
}
